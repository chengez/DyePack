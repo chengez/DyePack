{
 "cells": [
  {
   "cell_type": "code",
   "execution_count": 1,
   "metadata": {},
   "outputs": [
    {
     "name": "stdout",
     "output_type": "stream",
     "text": [
      "P(X ≥ 7) = 7.300000000043383e-07\n"
     ]
    }
   ],
   "source": [
    "from scipy.stats import binom\n",
    "\n",
    "def probability_at_least_tau(n, p, tau):\n",
    "    \"\"\"\n",
    "    Compute the probability of having at least `tau` positive outcomes\n",
    "    out of `n` independent trials, where each trial has a success probability `p`.\n",
    "\n",
    "    Parameters:\n",
    "    n (int): Number of trials\n",
    "    p (float): Probability of success in each trial\n",
    "    tau (int): Minimum number of successes required\n",
    "\n",
    "    Returns:\n",
    "    float: Probability of getting at least `tau` successes\n",
    "    \"\"\"\n",
    "    return 1 - binom.cdf(tau - 1, n, p)\n",
    "\n",
    "# Example usage\n",
    "n = 8  # Number of Backdoors\n",
    "p = 1/10  # Probability of landing in each output partition\n",
    "tau = 7 # Number of activated backdoors\n",
    "\n",
    "prob = probability_at_least_tau(n, p, tau)\n",
    "print(f\"P(X ≥ {tau}) = {prob}\")"
   ]
  }
 ],
 "metadata": {
  "kernelspec": {
   "display_name": "dyepack",
   "language": "python",
   "name": "python3"
  },
  "language_info": {
   "codemirror_mode": {
    "name": "ipython",
    "version": 3
   },
   "file_extension": ".py",
   "mimetype": "text/x-python",
   "name": "python",
   "nbconvert_exporter": "python",
   "pygments_lexer": "ipython3",
   "version": "3.10.15"
  }
 },
 "nbformat": 4,
 "nbformat_minor": 2
}
